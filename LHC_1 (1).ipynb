{
  "nbformat": 4,
  "nbformat_minor": 0,
  "metadata": {
    "colab": {
      "name": "LHC_1.ipynb",
      "provenance": [],
      "collapsed_sections": []
    },
    "kernelspec": {
      "name": "python3",
      "display_name": "Python 3"
    },
    "language_info": {
      "name": "python"
    }
  },
  "cells": [
    {
      "cell_type": "markdown",
      "metadata": {
        "id": "WCnVW9X4Q7RA"
      },
      "source": [
        "Question 1\n",
        "\n",
        "\n"
      ]
    },
    {
      "cell_type": "code",
      "metadata": {
        "id": "co5pAK6myIOa"
      },
      "source": [
        "## Import Libraries\n",
        "import numpy as np  \n",
        "import matplotlib.pyplot as plt \n",
        "import pandas as pd \n",
        "import math\n",
        "confirmed_df=pd.read_csv('https://raw.githubusercontent.com/CSSEGISandData/COVID-19/master/csse_covid_19_data/csse_covid_19_time_series/time_series_covid19_confirmed_global.csv')\n",
        "death_df=pd.read_csv('https://raw.githubusercontent.com/CSSEGISandData/COVID-19/master/csse_covid_19_data/csse_covid_19_time_series/time_series_covid19_deaths_global.csv')\n",
        "recovered_df=pd.read_csv('https://raw.githubusercontent.com/CSSEGISandData/COVID-19/master/csse_covid_19_data/csse_covid_19_time_series/time_series_covid19_recovered_global.csv')"
      ],
      "execution_count": null,
      "outputs": []
    },
    {
      "cell_type": "code",
      "metadata": {
        "id": "ZJfp7Bic4V85"
      },
      "source": [
        "con=pd.DataFrame(confirmed_df)\n",
        "dea=pd.DataFrame(death_df)\n",
        "rec=pd.DataFrame(recovered_df)"
      ],
      "execution_count": null,
      "outputs": []
    },
    {
      "cell_type": "code",
      "metadata": {
        "id": "faO_PpmG4dre"
      },
      "source": [
        "con_raw=con.loc[con['Country/Region']=='India']\n",
        "confirmed=con_raw.drop(['Province/State','Country/Region','Lat','Long'],axis=1)\n",
        "confirmed.index=[\"Confirmed\"]\n",
        "array=confirmed.transpose()\n",
        "array['Confirmed'] = array \n",
        "dea_raw=dea.loc[dea['Country/Region']=='India']\n",
        "death=dea_raw.drop(['Province/State','Country/Region','Lat','Long'],axis=1)\n",
        "death.index=[\"death\"]\n",
        "array1=death.transpose()\n",
        "array['death'] = array1  \n",
        "rec_raw=rec.loc[rec['Country/Region']=='India']\n",
        "recovered=rec_raw.drop(['Province/State','Country/Region','Lat','Long'],axis=1)\n",
        "recovered.index=[\"recovered\"]\n",
        "array2=recovered.transpose()\n",
        "array['recovered'] = array2   "
      ],
      "execution_count": null,
      "outputs": []
    },
    {
      "cell_type": "code",
      "metadata": {
        "colab": {
          "base_uri": "https://localhost:8080/",
          "height": 276
        },
        "id": "ofeSKuDKGn6o",
        "outputId": "5ae4db34-dbbd-4c04-d6a3-53a88c619ca5"
      },
      "source": [
        "plt.plot(array.index,array['Confirmed'],label=\"Confirmed\")\n",
        "plt.plot(array.index,array['death'],label=\"death\")\n",
        "plt.plot(array.index,array['recovered'],label=\"recovered\")\n",
        "plt.legend()\n",
        "plt.show()"
      ],
      "execution_count": null,
      "outputs": [
        {
          "output_type": "display_data",
          "data": {
            "image/png": "[encoded data removed]",
            "text/plain": [
              "<Figure size 432x288 with 1 Axes>"
            ]
          },
          "metadata": {
            "tags": [],
            "needs_background": "light"
          }
        }
      ]
    },
    {
      "cell_type": "markdown",
      "metadata": {
        "id": "z7cTL_owQ12g"
      },
      "source": [
        "Question 2"
      ]
    },
    {
      "cell_type": "code",
      "metadata": {
        "id": "eXkHTQOkRYz5"
      },
      "source": [
        "## Import Libraries\n",
        "import numpy as np  \n",
        "import matplotlib.pyplot as plt \n",
        "import pandas as pd \n",
        "import math\n",
        "confirmed_df=pd.read_csv('https://raw.githubusercontent.com/CSSEGISandData/COVID-19/master/csse_covid_19_data/csse_covid_19_time_series/time_series_covid19_confirmed_global.csv')\n",
        "death_df=pd.read_csv('https://raw.githubusercontent.com/CSSEGISandData/COVID-19/master/csse_covid_19_data/csse_covid_19_time_series/time_series_covid19_deaths_global.csv')\n",
        "recovered_df=pd.read_csv('https://raw.githubusercontent.com/CSSEGISandData/COVID-19/master/csse_covid_19_data/csse_covid_19_time_series/time_series_covid19_recovered_global.csv')"
      ],
      "execution_count": null,
      "outputs": []
    },
    {
      "cell_type": "code",
      "metadata": {
        "id": "gf2soVo1Rf5r"
      },
      "source": [
        "con=pd.DataFrame(confirmed_df)\n",
        "dea=pd.DataFrame(death_df)\n",
        "rec=pd.DataFrame(recovered_df)"
      ],
      "execution_count": null,
      "outputs": []
    },
    {
      "cell_type": "code",
      "metadata": {
        "id": "kqz2kHQHS5xg"
      },
      "source": [
        "con_raw=con.loc[con['Country/Region']=='US']\n",
        "confirmed=con_raw.drop(['Province/State','Country/Region','Lat','Long'],axis=1)\n",
        "confirmed.index=[\"Confirmed\"]\n",
        "array=confirmed.transpose()\n",
        "array['Confirmed'] = array \n",
        "dea_raw=dea.loc[dea['Country/Region']=='US']\n",
        "death=dea_raw.drop(['Province/State','Country/Region','Lat','Long'],axis=1)\n",
        "death.index=[\"death\"]\n",
        "array1=death.transpose()\n",
        "array['death'] = array1  \n",
        "rec_raw=rec.loc[rec['Country/Region']=='US']\n",
        "recovered=rec_raw.drop(['Province/State','Country/Region','Lat','Long'],axis=1)\n",
        "recovered.index=[\"recovered\"]\n",
        "array2=recovered.transpose()\n",
        "array['recovered'] = array2   "
      ],
      "execution_count": null,
      "outputs": []
    },
    {
      "cell_type": "code",
      "metadata": {
        "colab": {
          "base_uri": "https://localhost:8080/",
          "height": 276
        },
        "id": "VaWXn2hsRq1I",
        "outputId": "95991870-0e28-412a-dbe8-c063c6897525"
      },
      "source": [
        "plt.plot(array.index,array['Confirmed'],label=\"Confirmed\")\n",
        "plt.plot(array.index,array['death'],label=\"death\")\n",
        "plt.plot(array.index,array['recovered'],label=\"recovered\")\n",
        "plt.legend()\n",
        "plt.show()"
      ],
      "execution_count": null,
      "outputs": [
        {
          "output_type": "display_data",
          "data": {
            "image/png": "[encoded data removed]",
            "text/plain": [
              "<Figure size 432x288 with 1 Axes>"
            ]
          },
          "metadata": {
            "tags": [],
            "needs_background": "light"
          }
        }
      ]
    },
    {
      "cell_type": "markdown",
      "metadata": {
        "id": "2fS008dIgb7G"
      },
      "source": [
        "**Question 2.1**\n",
        "\n",
        "\n"
      ]
    },
    {
      "cell_type": "code",
      "metadata": {
        "id": "w8YysP-Zgb7I"
      },
      "source": [
        "## Import Libraries\n",
        "import numpy as np  \n",
        "import matplotlib.pyplot as plt \n",
        "import pandas as pd \n",
        "import math\n",
        "confirmed_df=pd.read_csv('https://raw.githubusercontent.com/CSSEGISandData/COVID-19/master/csse_covid_19_data/csse_covid_19_time_series/time_series_covid19_confirmed_global.csv')\n",
        "death_df=pd.read_csv('https://raw.githubusercontent.com/CSSEGISandData/COVID-19/master/csse_covid_19_data/csse_covid_19_time_series/time_series_covid19_deaths_global.csv')\n",
        "recovered_df=pd.read_csv('https://raw.githubusercontent.com/CSSEGISandData/COVID-19/master/csse_covid_19_data/csse_covid_19_time_series/time_series_covid19_recovered_global.csv')"
      ],
      "execution_count": null,
      "outputs": []
    },
    {
      "cell_type": "code",
      "metadata": {
        "id": "-xQr_CoZgb7J"
      },
      "source": [
        "con=pd.DataFrame(confirmed_df)\n",
        "dea=pd.DataFrame(death_df)\n",
        "rec=pd.DataFrame(recovered_df)"
      ],
      "execution_count": null,
      "outputs": []
    },
    {
      "cell_type": "code",
      "metadata": {
        "id": "S3twkw2Hgb7J"
      },
      "source": [
        "con_raw=con.loc[con['Country/Region']=='Italy']\n",
        "confirmed=con_raw.drop(['Province/State','Country/Region','Lat','Long'],axis=1)\n",
        "confirmed.index=[\"Confirmed\"]\n",
        "array=confirmed.transpose()\n",
        "array['Confirmed'] = array \n",
        "dea_raw=dea.loc[dea['Country/Region']=='Italy']\n",
        "death=dea_raw.drop(['Province/State','Country/Region','Lat','Long'],axis=1)\n",
        "death.index=[\"death\"]\n",
        "array1=death.transpose()\n",
        "array['death'] = array1  \n",
        "rec_raw=rec.loc[rec['Country/Region']=='Italy']\n",
        "recovered=rec_raw.drop(['Province/State','Country/Region','Lat','Long'],axis=1)\n",
        "recovered.index=[\"recovered\"]\n",
        "array2=recovered.transpose()\n",
        "array['recovered'] = array2   "
      ],
      "execution_count": null,
      "outputs": []
    },
    {
      "cell_type": "code",
      "metadata": {
        "colab": {
          "base_uri": "https://localhost:8080/",
          "height": 276
        },
        "id": "B5cWAiCCgb7J",
        "outputId": "3dbcb40d-cd3e-4df0-81e9-b0259ea018eb"
      },
      "source": [
        "plt.plot(array.index,array['Confirmed'],label=\"Confirmed\")\n",
        "plt.plot(array.index,array['death'],label=\"death\")\n",
        "plt.plot(array.index,array['recovered'],label=\"recovered\")\n",
        "plt.legend()\n",
        "plt.show()"
      ],
      "execution_count": null,
      "outputs": [
        {
          "output_type": "display_data",
          "data": {
            "image/png": "[encoded data removed]",
            "text/plain": [
              "<Figure size 432x288 with 1 Axes>"
            ]
          },
          "metadata": {
            "tags": [],
            "needs_background": "light"
          }
        }
      ]
    },
    {
      "cell_type": "markdown",
      "metadata": {
        "id": "M75WcaFbg6v1"
      },
      "source": [
        "Question 3"
      ]
    },
    {
      "cell_type": "code",
      "metadata": {
        "id": "NEbgLDVIhALf"
      },
      "source": [
        "from sklearn.preprocessing import PolynomialFeatures\n",
        "from sklearn.linear_model import LinearRegression"
      ],
      "execution_count": null,
      "outputs": []
    },
    {
      "cell_type": "code",
      "metadata": {
        "id": "EgMtzXLHCDi7"
      },
      "source": [
        "Xf = np.array(range(1,470))\n",
        "Xf = Xf.reshape(-1,1)\n",
        "Y = np.array(array['Confirmed'])\n",
        "Y = Y.reshape(-1,1)"
      ],
      "execution_count": null,
      "outputs": []
    },
    {
      "cell_type": "code",
      "metadata": {
        "id": "jwV-dOocE9Hx"
      },
      "source": [
        "x= np.array([470]).reshape(-1,1)"
      ],
      "execution_count": null,
      "outputs": []
    },
    {
      "cell_type": "code",
      "metadata": {
        "colab": {
          "base_uri": "https://localhost:8080/"
        },
        "id": "Hgc4PxU6FAco",
        "outputId": "ba8d5900-304b-43bf-a0bc-4afbda48315b"
      },
      "source": [
        "poly = PolynomialFeatures(degree = 10)\n",
        "Xpoly =((poly.fit_transform(Xf))+1)\n",
        "poly = poly.fit(Xpoly, Y)\n",
        "lin = LinearRegression()\n",
        "lin.fit(Xpoly, Y)\n",
        "ans =int(lin.predict(poly.fit_transform(x))) \n",
        "print(\" the number of covid cases on 4th May, 2021:\",ans)"
      ],
      "execution_count": null,
      "outputs": [
        {
          "output_type": "stream",
          "text": [
            " the number of covid cases on 4th May, 2021: 4192172\n"
          ],
          "name": "stdout"
        }
      ]
    },
    {
      "cell_type": "code",
      "metadata": {
        "id": "Jacxo5voFoQf"
      },
      "source": [
        "CoronaCaseToday=ans- Y[-1]"
      ],
      "execution_count": null,
      "outputs": []
    },
    {
      "cell_type": "code",
      "metadata": {
        "id": "T1xEefxVGBEw",
        "colab": {
          "base_uri": "https://localhost:8080/"
        },
        "outputId": "79a40a05-9aec-47c5-d70e-7ea3b5929e2f"
      },
      "source": [
        "CoronaCaseToday"
      ],
      "execution_count": null,
      "outputs": [
        {
          "output_type": "execute_result",
          "data": {
            "text/plain": [
              "array([132351])"
            ]
          },
          "metadata": {
            "tags": []
          },
          "execution_count": 80
        }
      ]
    },
    {
      "cell_type": "markdown",
      "metadata": {
        "id": "tvIOd05mGvUQ"
      },
      "source": [
        "Question 4\n"
      ]
    },
    {
      "cell_type": "code",
      "metadata": {
        "id": "aY_m_qlOG5Y_",
        "colab": {
          "base_uri": "https://localhost:8080/"
        },
        "outputId": "086fecd5-04b6-420f-d092-17b9d2794b6f"
      },
      "source": [
        "import os\n",
        "import glob\n",
        "location=\"Longhc\"\n",
        "\n",
        "file_name=[]\n",
        "for file in os.listdir(location):\n",
        "        file_name.append(file)\n",
        "      \n",
        "print(file_name)\n",
        "alldata=pd.concat([pd.read_csv(\"Longhc/\"+f) for f in file_name])\n",
        "alldata.to_csv(\"alldata.csv\",index=False,encoding='utf-8-sig')"
      ],
      "execution_count": null,
      "outputs": [
        {
          "output_type": "stream",
          "text": [
            "['05-01-2021.csv', '04-11-2021.csv', '03-03-2021.csv', '03-07-2021.csv', '03-01-2020.csv', '03-12-2021.csv', '03-13-2021.csv', '03-01-2021.csv', '03-05-2021.csv', '05-02-2021.csv', '03-02-2021.csv', '03-26-2021.csv', '04-13-2021.csv', '03-11-2021.csv', '05-03-2021.csv']\n"
          ],
          "name": "stdout"
        }
      ]
    },
    {
      "cell_type": "code",
      "metadata": {
        "id": "z5JQGiRSOEBx",
        "colab": {
          "base_uri": "https://localhost:8080/",
          "height": 606
        },
        "outputId": "64c53b8f-2e2a-4b7d-9657-e0547ed1b5fa"
      },
      "source": [
        "alldata"
      ],
      "execution_count": null,
      "outputs": [
        {
          "output_type": "execute_result",
          "data": {
            "text/html": [
              "<div>\n",
              "<style scoped>\n",
              "    .dataframe tbody tr th:only-of-type {\n",
              "        vertical-align: middle;\n",
              "    }\n",
              "\n",
              "    .dataframe tbody tr th {\n",
              "        vertical-align: top;\n",
              "    }\n",
              "\n",
              "    .dataframe thead th {\n",
              "        text-align: right;\n",
              "    }\n",
              "</style>\n",
              "<table border=\"1\" class=\"dataframe\">\n",
              "  <thead>\n",
              "    <tr style=\"text-align: right;\">\n",
              "      <th></th>\n",
              "      <th>FIPS</th>\n",
              "      <th>Admin2</th>\n",
              "      <th>Province_State</th>\n",
              "      <th>Country_Region</th>\n",
              "      <th>Last_Update</th>\n",
              "      <th>Lat</th>\n",
              "      <th>Long_</th>\n",
              "      <th>Confirmed</th>\n",
              "      <th>Deaths</th>\n",
              "      <th>Recovered</th>\n",
              "      <th>Active</th>\n",
              "      <th>Combined_Key</th>\n",
              "      <th>Incident_Rate</th>\n",
              "      <th>Case_Fatality_Ratio</th>\n",
              "      <th>Province/State</th>\n",
              "      <th>Country/Region</th>\n",
              "      <th>Last Update</th>\n",
              "      <th>Latitude</th>\n",
              "      <th>Longitude</th>\n",
              "    </tr>\n",
              "  </thead>\n",
              "  <tbody>\n",
              "    <tr>\n",
              "      <th>0</th>\n",
              "      <td>NaN</td>\n",
              "      <td>NaN</td>\n",
              "      <td>NaN</td>\n",
              "      <td>Afghanistan</td>\n",
              "      <td>2021-05-02 04:20:48</td>\n",
              "      <td>33.939110</td>\n",
              "      <td>67.709953</td>\n",
              "      <td>59939</td>\n",
              "      <td>2631</td>\n",
              "      <td>53272.0</td>\n",
              "      <td>4036.0</td>\n",
              "      <td>Afghanistan</td>\n",
              "      <td>153.972655</td>\n",
              "      <td>4.389463</td>\n",
              "      <td>NaN</td>\n",
              "      <td>NaN</td>\n",
              "      <td>NaN</td>\n",
              "      <td>NaN</td>\n",
              "      <td>NaN</td>\n",
              "    </tr>\n",
              "    <tr>\n",
              "      <th>1</th>\n",
              "      <td>NaN</td>\n",
              "      <td>NaN</td>\n",
              "      <td>NaN</td>\n",
              "      <td>Albania</td>\n",
              "      <td>2021-05-02 04:20:48</td>\n",
              "      <td>41.153300</td>\n",
              "      <td>20.168300</td>\n",
              "      <td>131185</td>\n",
              "      <td>2396</td>\n",
              "      <td>110172.0</td>\n",
              "      <td>18617.0</td>\n",
              "      <td>Albania</td>\n",
              "      <td>4558.516923</td>\n",
              "      <td>1.826428</td>\n",
              "      <td>NaN</td>\n",
              "      <td>NaN</td>\n",
              "      <td>NaN</td>\n",
              "      <td>NaN</td>\n",
              "      <td>NaN</td>\n",
              "    </tr>\n",
              "    <tr>\n",
              "      <th>2</th>\n",
              "      <td>NaN</td>\n",
              "      <td>NaN</td>\n",
              "      <td>NaN</td>\n",
              "      <td>Algeria</td>\n",
              "      <td>2021-05-02 04:20:48</td>\n",
              "      <td>28.033900</td>\n",
              "      <td>1.659600</td>\n",
              "      <td>122311</td>\n",
              "      <td>3261</td>\n",
              "      <td>85249.0</td>\n",
              "      <td>33801.0</td>\n",
              "      <td>Algeria</td>\n",
              "      <td>278.923810</td>\n",
              "      <td>2.666154</td>\n",
              "      <td>NaN</td>\n",
              "      <td>NaN</td>\n",
              "      <td>NaN</td>\n",
              "      <td>NaN</td>\n",
              "      <td>NaN</td>\n",
              "    </tr>\n",
              "    <tr>\n",
              "      <th>3</th>\n",
              "      <td>NaN</td>\n",
              "      <td>NaN</td>\n",
              "      <td>NaN</td>\n",
              "      <td>Andorra</td>\n",
              "      <td>2021-05-02 04:20:48</td>\n",
              "      <td>42.506300</td>\n",
              "      <td>1.521800</td>\n",
              "      <td>13232</td>\n",
              "      <td>125</td>\n",
              "      <td>12684.0</td>\n",
              "      <td>423.0</td>\n",
              "      <td>Andorra</td>\n",
              "      <td>17125.477254</td>\n",
              "      <td>0.944680</td>\n",
              "      <td>NaN</td>\n",
              "      <td>NaN</td>\n",
              "      <td>NaN</td>\n",
              "      <td>NaN</td>\n",
              "      <td>NaN</td>\n",
              "    </tr>\n",
              "    <tr>\n",
              "      <th>4</th>\n",
              "      <td>NaN</td>\n",
              "      <td>NaN</td>\n",
              "      <td>NaN</td>\n",
              "      <td>Angola</td>\n",
              "      <td>2021-05-02 04:20:48</td>\n",
              "      <td>-11.202700</td>\n",
              "      <td>17.873900</td>\n",
              "      <td>26815</td>\n",
              "      <td>600</td>\n",
              "      <td>23913.0</td>\n",
              "      <td>2302.0</td>\n",
              "      <td>Angola</td>\n",
              "      <td>81.588211</td>\n",
              "      <td>2.237554</td>\n",
              "      <td>NaN</td>\n",
              "      <td>NaN</td>\n",
              "      <td>NaN</td>\n",
              "      <td>NaN</td>\n",
              "      <td>NaN</td>\n",
              "    </tr>\n",
              "    <tr>\n",
              "      <th>...</th>\n",
              "      <td>...</td>\n",
              "      <td>...</td>\n",
              "      <td>...</td>\n",
              "      <td>...</td>\n",
              "      <td>...</td>\n",
              "      <td>...</td>\n",
              "      <td>...</td>\n",
              "      <td>...</td>\n",
              "      <td>...</td>\n",
              "      <td>...</td>\n",
              "      <td>...</td>\n",
              "      <td>...</td>\n",
              "      <td>...</td>\n",
              "      <td>...</td>\n",
              "      <td>...</td>\n",
              "      <td>...</td>\n",
              "      <td>...</td>\n",
              "      <td>...</td>\n",
              "      <td>...</td>\n",
              "    </tr>\n",
              "    <tr>\n",
              "      <th>3978</th>\n",
              "      <td>NaN</td>\n",
              "      <td>NaN</td>\n",
              "      <td>NaN</td>\n",
              "      <td>Vietnam</td>\n",
              "      <td>2021-05-04 04:20:34</td>\n",
              "      <td>14.058324</td>\n",
              "      <td>108.277199</td>\n",
              "      <td>2985</td>\n",
              "      <td>35</td>\n",
              "      <td>2560.0</td>\n",
              "      <td>390.0</td>\n",
              "      <td>Vietnam</td>\n",
              "      <td>3.066615</td>\n",
              "      <td>1.172529</td>\n",
              "      <td>NaN</td>\n",
              "      <td>NaN</td>\n",
              "      <td>NaN</td>\n",
              "      <td>NaN</td>\n",
              "      <td>NaN</td>\n",
              "    </tr>\n",
              "    <tr>\n",
              "      <th>3979</th>\n",
              "      <td>NaN</td>\n",
              "      <td>NaN</td>\n",
              "      <td>NaN</td>\n",
              "      <td>West Bank and Gaza</td>\n",
              "      <td>2021-05-04 04:20:34</td>\n",
              "      <td>31.952200</td>\n",
              "      <td>35.233200</td>\n",
              "      <td>298203</td>\n",
              "      <td>3283</td>\n",
              "      <td>276171.0</td>\n",
              "      <td>18749.0</td>\n",
              "      <td>West Bank and Gaza</td>\n",
              "      <td>5845.494663</td>\n",
              "      <td>1.100928</td>\n",
              "      <td>NaN</td>\n",
              "      <td>NaN</td>\n",
              "      <td>NaN</td>\n",
              "      <td>NaN</td>\n",
              "      <td>NaN</td>\n",
              "    </tr>\n",
              "    <tr>\n",
              "      <th>3980</th>\n",
              "      <td>NaN</td>\n",
              "      <td>NaN</td>\n",
              "      <td>NaN</td>\n",
              "      <td>Yemen</td>\n",
              "      <td>2021-05-04 04:20:34</td>\n",
              "      <td>15.552727</td>\n",
              "      <td>48.516388</td>\n",
              "      <td>6363</td>\n",
              "      <td>1239</td>\n",
              "      <td>2910.0</td>\n",
              "      <td>2214.0</td>\n",
              "      <td>Yemen</td>\n",
              "      <td>21.333759</td>\n",
              "      <td>19.471947</td>\n",
              "      <td>NaN</td>\n",
              "      <td>NaN</td>\n",
              "      <td>NaN</td>\n",
              "      <td>NaN</td>\n",
              "      <td>NaN</td>\n",
              "    </tr>\n",
              "    <tr>\n",
              "      <th>3981</th>\n",
              "      <td>NaN</td>\n",
              "      <td>NaN</td>\n",
              "      <td>NaN</td>\n",
              "      <td>Zambia</td>\n",
              "      <td>2021-05-04 04:20:34</td>\n",
              "      <td>-13.133897</td>\n",
              "      <td>27.849332</td>\n",
              "      <td>91722</td>\n",
              "      <td>1253</td>\n",
              "      <td>90130.0</td>\n",
              "      <td>339.0</td>\n",
              "      <td>Zambia</td>\n",
              "      <td>498.924171</td>\n",
              "      <td>1.366084</td>\n",
              "      <td>NaN</td>\n",
              "      <td>NaN</td>\n",
              "      <td>NaN</td>\n",
              "      <td>NaN</td>\n",
              "      <td>NaN</td>\n",
              "    </tr>\n",
              "    <tr>\n",
              "      <th>3982</th>\n",
              "      <td>NaN</td>\n",
              "      <td>NaN</td>\n",
              "      <td>NaN</td>\n",
              "      <td>Zimbabwe</td>\n",
              "      <td>2021-05-04 04:20:34</td>\n",
              "      <td>-19.015438</td>\n",
              "      <td>29.154857</td>\n",
              "      <td>38293</td>\n",
              "      <td>1573</td>\n",
              "      <td>35647.0</td>\n",
              "      <td>1073.0</td>\n",
              "      <td>Zimbabwe</td>\n",
              "      <td>257.641042</td>\n",
              "      <td>4.107800</td>\n",
              "      <td>NaN</td>\n",
              "      <td>NaN</td>\n",
              "      <td>NaN</td>\n",
              "      <td>NaN</td>\n",
              "      <td>NaN</td>\n",
              "    </tr>\n",
              "  </tbody>\n",
              "</table>\n",
              "<p>55888 rows × 19 columns</p>\n",
              "</div>"
            ],
            "text/plain": [
              "      FIPS Admin2 Province_State  ... Last Update Latitude  Longitude\n",
              "0      NaN    NaN            NaN  ...         NaN      NaN        NaN\n",
              "1      NaN    NaN            NaN  ...         NaN      NaN        NaN\n",
              "2      NaN    NaN            NaN  ...         NaN      NaN        NaN\n",
              "3      NaN    NaN            NaN  ...         NaN      NaN        NaN\n",
              "4      NaN    NaN            NaN  ...         NaN      NaN        NaN\n",
              "...    ...    ...            ...  ...         ...      ...        ...\n",
              "3978   NaN    NaN            NaN  ...         NaN      NaN        NaN\n",
              "3979   NaN    NaN            NaN  ...         NaN      NaN        NaN\n",
              "3980   NaN    NaN            NaN  ...         NaN      NaN        NaN\n",
              "3981   NaN    NaN            NaN  ...         NaN      NaN        NaN\n",
              "3982   NaN    NaN            NaN  ...         NaN      NaN        NaN\n",
              "\n",
              "[55888 rows x 19 columns]"
            ]
          },
          "metadata": {
            "tags": []
          },
          "execution_count": 82
        }
      ]
    },
    {
      "cell_type": "code",
      "metadata": {
        "id": "86iSK3-9NiZb"
      },
      "source": [
        "gujarat = alldata.loc[alldata['Province_State']=='Gujarat']"
      ],
      "execution_count": null,
      "outputs": []
    },
    {
      "cell_type": "code",
      "metadata": {
        "id": "55V7Ld95OaIw",
        "colab": {
          "base_uri": "https://localhost:8080/",
          "height": 734
        },
        "outputId": "8b169a31-f4b3-4eb7-ad05-34f4e23d5cba"
      },
      "source": [
        "gujarat"
      ],
      "execution_count": null,
      "outputs": [
        {
          "output_type": "execute_result",
          "data": {
            "text/html": [
              "<div>\n",
              "<style scoped>\n",
              "    .dataframe tbody tr th:only-of-type {\n",
              "        vertical-align: middle;\n",
              "    }\n",
              "\n",
              "    .dataframe tbody tr th {\n",
              "        vertical-align: top;\n",
              "    }\n",
              "\n",
              "    .dataframe thead th {\n",
              "        text-align: right;\n",
              "    }\n",
              "</style>\n",
              "<table border=\"1\" class=\"dataframe\">\n",
              "  <thead>\n",
              "    <tr style=\"text-align: right;\">\n",
              "      <th></th>\n",
              "      <th>FIPS</th>\n",
              "      <th>Admin2</th>\n",
              "      <th>Province_State</th>\n",
              "      <th>Country_Region</th>\n",
              "      <th>Last_Update</th>\n",
              "      <th>Lat</th>\n",
              "      <th>Long_</th>\n",
              "      <th>Confirmed</th>\n",
              "      <th>Deaths</th>\n",
              "      <th>Recovered</th>\n",
              "      <th>Active</th>\n",
              "      <th>Combined_Key</th>\n",
              "      <th>Incident_Rate</th>\n",
              "      <th>Case_Fatality_Ratio</th>\n",
              "      <th>Province/State</th>\n",
              "      <th>Country/Region</th>\n",
              "      <th>Last Update</th>\n",
              "      <th>Latitude</th>\n",
              "      <th>Longitude</th>\n",
              "    </tr>\n",
              "  </thead>\n",
              "  <tbody>\n",
              "    <tr>\n",
              "      <th>259</th>\n",
              "      <td>NaN</td>\n",
              "      <td>NaN</td>\n",
              "      <td>Gujarat</td>\n",
              "      <td>India</td>\n",
              "      <td>2021-05-02 04:20:48</td>\n",
              "      <td>22.694884</td>\n",
              "      <td>71.590923</td>\n",
              "      <td>581624</td>\n",
              "      <td>7355</td>\n",
              "      <td>429130.0</td>\n",
              "      <td>145139.0</td>\n",
              "      <td>Gujarat, India</td>\n",
              "      <td>910.603029</td>\n",
              "      <td>1.264563</td>\n",
              "      <td>NaN</td>\n",
              "      <td>NaN</td>\n",
              "      <td>NaN</td>\n",
              "      <td>NaN</td>\n",
              "      <td>NaN</td>\n",
              "    </tr>\n",
              "    <tr>\n",
              "      <th>259</th>\n",
              "      <td>NaN</td>\n",
              "      <td>NaN</td>\n",
              "      <td>Gujarat</td>\n",
              "      <td>India</td>\n",
              "      <td>2021-04-12 04:21:00</td>\n",
              "      <td>22.694884</td>\n",
              "      <td>71.590923</td>\n",
              "      <td>347495</td>\n",
              "      <td>4800</td>\n",
              "      <td>315127.0</td>\n",
              "      <td>27568.0</td>\n",
              "      <td>Gujarat, India</td>\n",
              "      <td>544.045637</td>\n",
              "      <td>1.381315</td>\n",
              "      <td>NaN</td>\n",
              "      <td>NaN</td>\n",
              "      <td>NaN</td>\n",
              "      <td>NaN</td>\n",
              "      <td>NaN</td>\n",
              "    </tr>\n",
              "    <tr>\n",
              "      <th>259</th>\n",
              "      <td>NaN</td>\n",
              "      <td>NaN</td>\n",
              "      <td>Gujarat</td>\n",
              "      <td>India</td>\n",
              "      <td>2021-03-04 05:24:24</td>\n",
              "      <td>22.694884</td>\n",
              "      <td>71.590923</td>\n",
              "      <td>271245</td>\n",
              "      <td>4412</td>\n",
              "      <td>264195.0</td>\n",
              "      <td>2638.0</td>\n",
              "      <td>Gujarat, India</td>\n",
              "      <td>424.666999</td>\n",
              "      <td>1.626574</td>\n",
              "      <td>NaN</td>\n",
              "      <td>NaN</td>\n",
              "      <td>NaN</td>\n",
              "      <td>NaN</td>\n",
              "      <td>NaN</td>\n",
              "    </tr>\n",
              "    <tr>\n",
              "      <th>259</th>\n",
              "      <td>NaN</td>\n",
              "      <td>NaN</td>\n",
              "      <td>Gujarat</td>\n",
              "      <td>India</td>\n",
              "      <td>2021-03-08 05:24:48</td>\n",
              "      <td>22.694884</td>\n",
              "      <td>71.590923</td>\n",
              "      <td>273386</td>\n",
              "      <td>4415</td>\n",
              "      <td>265831.0</td>\n",
              "      <td>3140.0</td>\n",
              "      <td>Gujarat, India</td>\n",
              "      <td>428.018995</td>\n",
              "      <td>1.614933</td>\n",
              "      <td>NaN</td>\n",
              "      <td>NaN</td>\n",
              "      <td>NaN</td>\n",
              "      <td>NaN</td>\n",
              "      <td>NaN</td>\n",
              "    </tr>\n",
              "    <tr>\n",
              "      <th>259</th>\n",
              "      <td>NaN</td>\n",
              "      <td>NaN</td>\n",
              "      <td>Gujarat</td>\n",
              "      <td>India</td>\n",
              "      <td>2021-03-13 05:25:15</td>\n",
              "      <td>22.694884</td>\n",
              "      <td>71.590923</td>\n",
              "      <td>276622</td>\n",
              "      <td>4420</td>\n",
              "      <td>268196.0</td>\n",
              "      <td>4006.0</td>\n",
              "      <td>Gujarat, India</td>\n",
              "      <td>433.085346</td>\n",
              "      <td>1.597848</td>\n",
              "      <td>NaN</td>\n",
              "      <td>NaN</td>\n",
              "      <td>NaN</td>\n",
              "      <td>NaN</td>\n",
              "      <td>NaN</td>\n",
              "    </tr>\n",
              "    <tr>\n",
              "      <th>259</th>\n",
              "      <td>NaN</td>\n",
              "      <td>NaN</td>\n",
              "      <td>Gujarat</td>\n",
              "      <td>India</td>\n",
              "      <td>2021-03-14 05:25:37</td>\n",
              "      <td>22.694884</td>\n",
              "      <td>71.590923</td>\n",
              "      <td>277397</td>\n",
              "      <td>4422</td>\n",
              "      <td>268775.0</td>\n",
              "      <td>4200.0</td>\n",
              "      <td>Gujarat, India</td>\n",
              "      <td>434.298702</td>\n",
              "      <td>1.594105</td>\n",
              "      <td>NaN</td>\n",
              "      <td>NaN</td>\n",
              "      <td>NaN</td>\n",
              "      <td>NaN</td>\n",
              "      <td>NaN</td>\n",
              "    </tr>\n",
              "    <tr>\n",
              "      <th>259</th>\n",
              "      <td>NaN</td>\n",
              "      <td>NaN</td>\n",
              "      <td>Gujarat</td>\n",
              "      <td>India</td>\n",
              "      <td>2021-03-02 05:23:30</td>\n",
              "      <td>22.694884</td>\n",
              "      <td>71.590923</td>\n",
              "      <td>270316</td>\n",
              "      <td>4410</td>\n",
              "      <td>263475.0</td>\n",
              "      <td>2431.0</td>\n",
              "      <td>Gujarat, India</td>\n",
              "      <td>423.212537</td>\n",
              "      <td>1.631424</td>\n",
              "      <td>NaN</td>\n",
              "      <td>NaN</td>\n",
              "      <td>NaN</td>\n",
              "      <td>NaN</td>\n",
              "      <td>NaN</td>\n",
              "    </tr>\n",
              "    <tr>\n",
              "      <th>259</th>\n",
              "      <td>NaN</td>\n",
              "      <td>NaN</td>\n",
              "      <td>Gujarat</td>\n",
              "      <td>India</td>\n",
              "      <td>2021-03-06 04:23:41</td>\n",
              "      <td>22.694884</td>\n",
              "      <td>71.590923</td>\n",
              "      <td>272240</td>\n",
              "      <td>4413</td>\n",
              "      <td>264969.0</td>\n",
              "      <td>2858.0</td>\n",
              "      <td>Gujarat, India</td>\n",
              "      <td>426.224792</td>\n",
              "      <td>1.620996</td>\n",
              "      <td>NaN</td>\n",
              "      <td>NaN</td>\n",
              "      <td>NaN</td>\n",
              "      <td>NaN</td>\n",
              "      <td>NaN</td>\n",
              "    </tr>\n",
              "    <tr>\n",
              "      <th>259</th>\n",
              "      <td>NaN</td>\n",
              "      <td>NaN</td>\n",
              "      <td>Gujarat</td>\n",
              "      <td>India</td>\n",
              "      <td>2021-05-03 04:20:39</td>\n",
              "      <td>22.694884</td>\n",
              "      <td>71.590923</td>\n",
              "      <td>594602</td>\n",
              "      <td>7508</td>\n",
              "      <td>440276.0</td>\n",
              "      <td>146818.0</td>\n",
              "      <td>Gujarat, India</td>\n",
              "      <td>930.921665</td>\n",
              "      <td>1.262693</td>\n",
              "      <td>NaN</td>\n",
              "      <td>NaN</td>\n",
              "      <td>NaN</td>\n",
              "      <td>NaN</td>\n",
              "      <td>NaN</td>\n",
              "    </tr>\n",
              "    <tr>\n",
              "      <th>259</th>\n",
              "      <td>NaN</td>\n",
              "      <td>NaN</td>\n",
              "      <td>Gujarat</td>\n",
              "      <td>India</td>\n",
              "      <td>2021-03-03 05:23:28</td>\n",
              "      <td>22.694884</td>\n",
              "      <td>71.590923</td>\n",
              "      <td>270770</td>\n",
              "      <td>4411</td>\n",
              "      <td>263837.0</td>\n",
              "      <td>2522.0</td>\n",
              "      <td>Gujarat, India</td>\n",
              "      <td>423.923329</td>\n",
              "      <td>1.629058</td>\n",
              "      <td>NaN</td>\n",
              "      <td>NaN</td>\n",
              "      <td>NaN</td>\n",
              "      <td>NaN</td>\n",
              "      <td>NaN</td>\n",
              "    </tr>\n",
              "    <tr>\n",
              "      <th>259</th>\n",
              "      <td>NaN</td>\n",
              "      <td>NaN</td>\n",
              "      <td>Gujarat</td>\n",
              "      <td>India</td>\n",
              "      <td>2021-03-27 05:25:04</td>\n",
              "      <td>22.694884</td>\n",
              "      <td>71.590923</td>\n",
              "      <td>296320</td>\n",
              "      <td>4479</td>\n",
              "      <td>281707.0</td>\n",
              "      <td>10134.0</td>\n",
              "      <td>Gujarat, India</td>\n",
              "      <td>463.924958</td>\n",
              "      <td>1.511542</td>\n",
              "      <td>NaN</td>\n",
              "      <td>NaN</td>\n",
              "      <td>NaN</td>\n",
              "      <td>NaN</td>\n",
              "      <td>NaN</td>\n",
              "    </tr>\n",
              "    <tr>\n",
              "      <th>259</th>\n",
              "      <td>NaN</td>\n",
              "      <td>NaN</td>\n",
              "      <td>Gujarat</td>\n",
              "      <td>India</td>\n",
              "      <td>2021-04-14 04:20:41</td>\n",
              "      <td>22.694884</td>\n",
              "      <td>71.590923</td>\n",
              "      <td>360206</td>\n",
              "      <td>4922</td>\n",
              "      <td>320729.0</td>\n",
              "      <td>34555.0</td>\n",
              "      <td>Gujarat, India</td>\n",
              "      <td>563.946252</td>\n",
              "      <td>1.366440</td>\n",
              "      <td>NaN</td>\n",
              "      <td>NaN</td>\n",
              "      <td>NaN</td>\n",
              "      <td>NaN</td>\n",
              "      <td>NaN</td>\n",
              "    </tr>\n",
              "    <tr>\n",
              "      <th>259</th>\n",
              "      <td>NaN</td>\n",
              "      <td>NaN</td>\n",
              "      <td>Gujarat</td>\n",
              "      <td>India</td>\n",
              "      <td>2021-03-12 05:26:50</td>\n",
              "      <td>22.694884</td>\n",
              "      <td>71.590923</td>\n",
              "      <td>275907</td>\n",
              "      <td>4418</td>\n",
              "      <td>267701.0</td>\n",
              "      <td>3788.0</td>\n",
              "      <td>Gujarat, India</td>\n",
              "      <td>431.965926</td>\n",
              "      <td>1.601264</td>\n",
              "      <td>NaN</td>\n",
              "      <td>NaN</td>\n",
              "      <td>NaN</td>\n",
              "      <td>NaN</td>\n",
              "      <td>NaN</td>\n",
              "    </tr>\n",
              "    <tr>\n",
              "      <th>259</th>\n",
              "      <td>NaN</td>\n",
              "      <td>NaN</td>\n",
              "      <td>Gujarat</td>\n",
              "      <td>India</td>\n",
              "      <td>2021-05-04 04:20:34</td>\n",
              "      <td>22.694884</td>\n",
              "      <td>71.590923</td>\n",
              "      <td>607422</td>\n",
              "      <td>7648</td>\n",
              "      <td>452275.0</td>\n",
              "      <td>147499.0</td>\n",
              "      <td>Gujarat, India</td>\n",
              "      <td>950.992932</td>\n",
              "      <td>1.259092</td>\n",
              "      <td>NaN</td>\n",
              "      <td>NaN</td>\n",
              "      <td>NaN</td>\n",
              "      <td>NaN</td>\n",
              "      <td>NaN</td>\n",
              "    </tr>\n",
              "  </tbody>\n",
              "</table>\n",
              "</div>"
            ],
            "text/plain": [
              "     FIPS Admin2 Province_State  ... Last Update Latitude  Longitude\n",
              "259   NaN    NaN        Gujarat  ...         NaN      NaN        NaN\n",
              "259   NaN    NaN        Gujarat  ...         NaN      NaN        NaN\n",
              "259   NaN    NaN        Gujarat  ...         NaN      NaN        NaN\n",
              "259   NaN    NaN        Gujarat  ...         NaN      NaN        NaN\n",
              "259   NaN    NaN        Gujarat  ...         NaN      NaN        NaN\n",
              "259   NaN    NaN        Gujarat  ...         NaN      NaN        NaN\n",
              "259   NaN    NaN        Gujarat  ...         NaN      NaN        NaN\n",
              "259   NaN    NaN        Gujarat  ...         NaN      NaN        NaN\n",
              "259   NaN    NaN        Gujarat  ...         NaN      NaN        NaN\n",
              "259   NaN    NaN        Gujarat  ...         NaN      NaN        NaN\n",
              "259   NaN    NaN        Gujarat  ...         NaN      NaN        NaN\n",
              "259   NaN    NaN        Gujarat  ...         NaN      NaN        NaN\n",
              "259   NaN    NaN        Gujarat  ...         NaN      NaN        NaN\n",
              "259   NaN    NaN        Gujarat  ...         NaN      NaN        NaN\n",
              "\n",
              "[14 rows x 19 columns]"
            ]
          },
          "metadata": {
            "tags": []
          },
          "execution_count": 84
        }
      ]
    },
    {
      "cell_type": "code",
      "metadata": {
        "id": "1uMZjRR1OmGw",
        "colab": {
          "base_uri": "https://localhost:8080/",
          "height": 295
        },
        "outputId": "7b1e500a-9128-48b7-c426-3f3b1a95c218"
      },
      "source": [
        "plt.plot(gujarat['Last_Update'], gujarat['Confirmed'], label = \"Confirmed Cases\", linestyle=\"-\")\n",
        "plt.plot(gujarat['Last_Update'], gujarat['Recovered'], label = \"Recovered Cases\", linestyle=\"--\")\n",
        "plt.plot(gujarat['Last_Update'], gujarat['Deaths'], label = \"Deaths\", linestyle=\"-.\")\n",
        "plt.xlabel(\"Days\")\n",
        "plt.ylabel(\"Number of Cases\")\n",
        "plt.title(\"Gujarat Covid Cases\")\n",
        "plt.legend()\n",
        "plt.show()"
      ],
      "execution_count": null,
      "outputs": [
        {
          "output_type": "display_data",
          "data": {
            "image/png": "[encoded data removed]",
            "text/plain": [
              "<Figure size 432x288 with 1 Axes>"
            ]
          },
          "metadata": {
            "tags": [],
            "needs_background": "light"
          }
        }
      ]
    },
    {
      "cell_type": "markdown",
      "metadata": {
        "id": "EqL1aI1nO18R"
      },
      "source": [
        "Question 5"
      ]
    },
    {
      "cell_type": "code",
      "metadata": {
        "id": "-KCrGhahO0oP",
        "colab": {
          "base_uri": "https://localhost:8080/"
        },
        "outputId": "7355ce79-641d-42f5-a77b-3a09bef76643"
      },
      "source": [
        "from sklearn.linear_model import LinearRegression\n",
        "X_Gujfeatures = np.array(range(1,15))\n",
        "X_Gujfeatures = X_Gujfeatures.reshape(-1,1)\n",
        "YGuj = np.array(gujarat['Confirmed'])\n",
        "YGuj = YGuj.reshape(-1,1)\n",
        "X_Gujfeatures.size"
      ],
      "execution_count": null,
      "outputs": [
        {
          "output_type": "execute_result",
          "data": {
            "text/plain": [
              "14"
            ]
          },
          "metadata": {
            "tags": []
          },
          "execution_count": 86
        }
      ]
    },
    {
      "cell_type": "code",
      "metadata": {
        "id": "lEo0Jk9UPlUh",
        "colab": {
          "base_uri": "https://localhost:8080/"
        },
        "outputId": "8773c804-0d67-407d-c568-2265566bb832"
      },
      "source": [
        "from sklearn.preprocessing import PolynomialFeatures\n",
        "poly = PolynomialFeatures(degree = 5)\n",
        "X_poly = poly.fit_transform(X_Gujfeatures)\n",
        "poly = poly.fit(X_poly, YGuj)\n",
        "lin2 = LinearRegression()\n",
        "lin2.fit(X_poly, YGuj)\n",
        "x = np.array([65]).reshape(-1, 1)\n",
        "ans =int(lin2.predict(poly.fit_transform(x))) \n",
        "print(ans)"
      ],
      "execution_count": null,
      "outputs": [
        {
          "output_type": "stream",
          "text": [
            "35692009341\n"
          ],
          "name": "stdout"
        }
      ]
    },
    {
      "cell_type": "code",
      "metadata": {
        "id": "GP2oY2fRQMKh",
        "colab": {
          "base_uri": "https://localhost:8080/"
        },
        "outputId": "de9a6784-26e3-41f5-9d08-d3c536729773"
      },
      "source": [
        "casesgujarat=ans-YGuj[-1]\n",
        "casesgujarat"
      ],
      "execution_count": null,
      "outputs": [
        {
          "output_type": "execute_result",
          "data": {
            "text/plain": [
              "array([35691401919], dtype=int64)"
            ]
          },
          "metadata": {
            "tags": []
          },
          "execution_count": 88
        }
      ]
    },
    {
      "cell_type": "markdown",
      "metadata": {
        "id": "RppjfJ97eQwf"
      },
      "source": [
        "Question 6"
      ]
    },
    {
      "cell_type": "code",
      "metadata": {
        "id": "4M6P1vTtQdAj",
        "colab": {
          "base_uri": "https://localhost:8080/",
          "height": 271
        },
        "outputId": "7ab6a9a3-dea0-4847-8158-5a1cb251c14e"
      },
      "source": [
        "print(\"Cases all over India on 4th May,2021 : \",CoronaCaseToday)\n",
        "print(\"Cases in Gujarat on 4th May,2021 : \",casesgujarat)\n",
        "perct = (casesgujarat[0]/(CoronaCaseToday[0]+casesgujarat[0]))*100\n",
        "\n",
        "plt.pie([perct.round(2),100-perct.round(2)],colors=['orange','red'],labels=['Gujarat','India'],\n",
        "        explode=(0.2,0),shadow=True,autopct='%1.1f%%')\n",
        "plt.title(\"Covid cases on 4th May\")\n",
        "plt.legend()\n",
        "plt.show()"
      ],
      "execution_count": null,
      "outputs": [
        {
          "output_type": "stream",
          "text": [
            "Cases all over India on 4th May,2021 :  [132351]\n"
          ],
          "name": "stdout"
        },
        {
          "output_type": "error",
          "ename": "NameError",
          "evalue": "ignored",
          "traceback": [
            "\u001b[0;31m---------------------------------------------------------------------------\u001b[0m",
            "\u001b[0;31mNameError\u001b[0m                                 Traceback (most recent call last)",
            "\u001b[0;32m<ipython-input-29-7ba8e54aa874>\u001b[0m in \u001b[0;36m<module>\u001b[0;34m()\u001b[0m\n\u001b[1;32m      1\u001b[0m \u001b[0mprint\u001b[0m\u001b[0;34m(\u001b[0m\u001b[0;34m\"Cases all over India on 4th May,2021 : \"\u001b[0m\u001b[0;34m,\u001b[0m\u001b[0mCoronaCaseToday\u001b[0m\u001b[0;34m)\u001b[0m\u001b[0;34m\u001b[0m\u001b[0;34m\u001b[0m\u001b[0m\n\u001b[0;32m----> 2\u001b[0;31m \u001b[0mprint\u001b[0m\u001b[0;34m(\u001b[0m\u001b[0;34m\"Cases in Gujarat on 4th May,2021 : \"\u001b[0m\u001b[0;34m,\u001b[0m\u001b[0mcasesgujarat\u001b[0m\u001b[0;34m)\u001b[0m\u001b[0;34m\u001b[0m\u001b[0;34m\u001b[0m\u001b[0m\n\u001b[0m\u001b[1;32m      3\u001b[0m \u001b[0mperct\u001b[0m \u001b[0;34m=\u001b[0m \u001b[0;34m(\u001b[0m\u001b[0mcasesgujarat\u001b[0m\u001b[0;34m[\u001b[0m\u001b[0;36m0\u001b[0m\u001b[0;34m]\u001b[0m\u001b[0;34m/\u001b[0m\u001b[0;34m(\u001b[0m\u001b[0mCoronaCaseToday\u001b[0m\u001b[0;34m[\u001b[0m\u001b[0;36m0\u001b[0m\u001b[0;34m]\u001b[0m\u001b[0;34m+\u001b[0m\u001b[0mcasesgujarat\u001b[0m\u001b[0;34m[\u001b[0m\u001b[0;36m0\u001b[0m\u001b[0;34m]\u001b[0m\u001b[0;34m)\u001b[0m\u001b[0;34m)\u001b[0m\u001b[0;34m*\u001b[0m\u001b[0;36m100\u001b[0m\u001b[0;34m\u001b[0m\u001b[0;34m\u001b[0m\u001b[0m\n\u001b[1;32m      4\u001b[0m \u001b[0;34m\u001b[0m\u001b[0m\n\u001b[1;32m      5\u001b[0m plt.pie([perct.round(2),100-perct.round(2)],colors=['orange','red'],labels=['Gujarat','India'],\n",
            "\u001b[0;31mNameError\u001b[0m: name 'casesgujarat' is not defined"
          ]
        }
      ]
    },
    {
      "cell_type": "markdown",
      "metadata": {
        "id": "b3lF8Rpxd2HW"
      },
      "source": [
        "*Question* 7"
      ]
    },
    {
      "cell_type": "code",
      "metadata": {
        "id": "nOhaaPg4dzcH",
        "colab": {
          "base_uri": "https://localhost:8080/",
          "height": 734
        },
        "outputId": "a005e6f9-e117-486a-f6ad-c6544cbe5492"
      },
      "source": [
        "bengaldata = alldata.loc[alldata['Province_State']=='West Bengal']\n",
        "bengaldata"
      ],
      "execution_count": null,
      "outputs": [
        {
          "output_type": "execute_result",
          "data": {
            "text/html": [
              "<div>\n",
              "<style scoped>\n",
              "    .dataframe tbody tr th:only-of-type {\n",
              "        vertical-align: middle;\n",
              "    }\n",
              "\n",
              "    .dataframe tbody tr th {\n",
              "        vertical-align: top;\n",
              "    }\n",
              "\n",
              "    .dataframe thead th {\n",
              "        text-align: right;\n",
              "    }\n",
              "</style>\n",
              "<table border=\"1\" class=\"dataframe\">\n",
              "  <thead>\n",
              "    <tr style=\"text-align: right;\">\n",
              "      <th></th>\n",
              "      <th>FIPS</th>\n",
              "      <th>Admin2</th>\n",
              "      <th>Province_State</th>\n",
              "      <th>Country_Region</th>\n",
              "      <th>Last_Update</th>\n",
              "      <th>Lat</th>\n",
              "      <th>Long_</th>\n",
              "      <th>Confirmed</th>\n",
              "      <th>Deaths</th>\n",
              "      <th>Recovered</th>\n",
              "      <th>Active</th>\n",
              "      <th>Combined_Key</th>\n",
              "      <th>Incident_Rate</th>\n",
              "      <th>Case_Fatality_Ratio</th>\n",
              "      <th>Province/State</th>\n",
              "      <th>Country/Region</th>\n",
              "      <th>Last Update</th>\n",
              "      <th>Latitude</th>\n",
              "      <th>Longitude</th>\n",
              "    </tr>\n",
              "  </thead>\n",
              "  <tbody>\n",
              "    <tr>\n",
              "      <th>285</th>\n",
              "      <td>NaN</td>\n",
              "      <td>NaN</td>\n",
              "      <td>West Bengal</td>\n",
              "      <td>India</td>\n",
              "      <td>2021-05-02 04:20:48</td>\n",
              "      <td>23.814082</td>\n",
              "      <td>87.979803</td>\n",
              "      <td>845878</td>\n",
              "      <td>11447</td>\n",
              "      <td>717772.0</td>\n",
              "      <td>116659.0</td>\n",
              "      <td>West Bengal, India</td>\n",
              "      <td>849.195782</td>\n",
              "      <td>1.353268</td>\n",
              "      <td>NaN</td>\n",
              "      <td>NaN</td>\n",
              "      <td>NaN</td>\n",
              "      <td>NaN</td>\n",
              "      <td>NaN</td>\n",
              "    </tr>\n",
              "    <tr>\n",
              "      <th>285</th>\n",
              "      <td>NaN</td>\n",
              "      <td>NaN</td>\n",
              "      <td>West Bengal</td>\n",
              "      <td>India</td>\n",
              "      <td>2021-04-12 04:21:00</td>\n",
              "      <td>23.814082</td>\n",
              "      <td>87.979803</td>\n",
              "      <td>614896</td>\n",
              "      <td>10400</td>\n",
              "      <td>580515.0</td>\n",
              "      <td>23981.0</td>\n",
              "      <td>West Bengal, India</td>\n",
              "      <td>617.307803</td>\n",
              "      <td>1.691343</td>\n",
              "      <td>NaN</td>\n",
              "      <td>NaN</td>\n",
              "      <td>NaN</td>\n",
              "      <td>NaN</td>\n",
              "      <td>NaN</td>\n",
              "    </tr>\n",
              "    <tr>\n",
              "      <th>285</th>\n",
              "      <td>NaN</td>\n",
              "      <td>NaN</td>\n",
              "      <td>West Bengal</td>\n",
              "      <td>India</td>\n",
              "      <td>2021-03-04 05:24:24</td>\n",
              "      <td>23.814082</td>\n",
              "      <td>87.979803</td>\n",
              "      <td>575712</td>\n",
              "      <td>10272</td>\n",
              "      <td>562195.0</td>\n",
              "      <td>3245.0</td>\n",
              "      <td>West Bengal, India</td>\n",
              "      <td>577.970112</td>\n",
              "      <td>1.784225</td>\n",
              "      <td>NaN</td>\n",
              "      <td>NaN</td>\n",
              "      <td>NaN</td>\n",
              "      <td>NaN</td>\n",
              "      <td>NaN</td>\n",
              "    </tr>\n",
              "    <tr>\n",
              "      <th>285</th>\n",
              "      <td>NaN</td>\n",
              "      <td>NaN</td>\n",
              "      <td>West Bengal</td>\n",
              "      <td>India</td>\n",
              "      <td>2021-03-08 05:24:48</td>\n",
              "      <td>23.814082</td>\n",
              "      <td>87.979803</td>\n",
              "      <td>576623</td>\n",
              "      <td>10278</td>\n",
              "      <td>563182.0</td>\n",
              "      <td>3163.0</td>\n",
              "      <td>West Bengal, India</td>\n",
              "      <td>578.884685</td>\n",
              "      <td>1.782447</td>\n",
              "      <td>NaN</td>\n",
              "      <td>NaN</td>\n",
              "      <td>NaN</td>\n",
              "      <td>NaN</td>\n",
              "      <td>NaN</td>\n",
              "    </tr>\n",
              "    <tr>\n",
              "      <th>285</th>\n",
              "      <td>NaN</td>\n",
              "      <td>NaN</td>\n",
              "      <td>West Bengal</td>\n",
              "      <td>India</td>\n",
              "      <td>2021-03-13 05:25:15</td>\n",
              "      <td>23.814082</td>\n",
              "      <td>87.979803</td>\n",
              "      <td>577788</td>\n",
              "      <td>10287</td>\n",
              "      <td>564368.0</td>\n",
              "      <td>3133.0</td>\n",
              "      <td>West Bengal, India</td>\n",
              "      <td>580.054255</td>\n",
              "      <td>1.780411</td>\n",
              "      <td>NaN</td>\n",
              "      <td>NaN</td>\n",
              "      <td>NaN</td>\n",
              "      <td>NaN</td>\n",
              "      <td>NaN</td>\n",
              "    </tr>\n",
              "    <tr>\n",
              "      <th>285</th>\n",
              "      <td>NaN</td>\n",
              "      <td>NaN</td>\n",
              "      <td>West Bengal</td>\n",
              "      <td>India</td>\n",
              "      <td>2021-03-14 05:25:37</td>\n",
              "      <td>23.814082</td>\n",
              "      <td>87.979803</td>\n",
              "      <td>578064</td>\n",
              "      <td>10288</td>\n",
              "      <td>564637.0</td>\n",
              "      <td>3139.0</td>\n",
              "      <td>West Bengal, India</td>\n",
              "      <td>580.331337</td>\n",
              "      <td>1.779734</td>\n",
              "      <td>NaN</td>\n",
              "      <td>NaN</td>\n",
              "      <td>NaN</td>\n",
              "      <td>NaN</td>\n",
              "      <td>NaN</td>\n",
              "    </tr>\n",
              "    <tr>\n",
              "      <th>285</th>\n",
              "      <td>NaN</td>\n",
              "      <td>NaN</td>\n",
              "      <td>West Bengal</td>\n",
              "      <td>India</td>\n",
              "      <td>2021-03-02 05:23:30</td>\n",
              "      <td>23.814082</td>\n",
              "      <td>87.979803</td>\n",
              "      <td>575316</td>\n",
              "      <td>10268</td>\n",
              "      <td>561755.0</td>\n",
              "      <td>3293.0</td>\n",
              "      <td>West Bengal, India</td>\n",
              "      <td>577.572559</td>\n",
              "      <td>1.784758</td>\n",
              "      <td>NaN</td>\n",
              "      <td>NaN</td>\n",
              "      <td>NaN</td>\n",
              "      <td>NaN</td>\n",
              "      <td>NaN</td>\n",
              "    </tr>\n",
              "    <tr>\n",
              "      <th>285</th>\n",
              "      <td>NaN</td>\n",
              "      <td>NaN</td>\n",
              "      <td>West Bengal</td>\n",
              "      <td>India</td>\n",
              "      <td>2021-03-06 04:23:41</td>\n",
              "      <td>23.814082</td>\n",
              "      <td>87.979803</td>\n",
              "      <td>576176</td>\n",
              "      <td>10275</td>\n",
              "      <td>562675.0</td>\n",
              "      <td>3226.0</td>\n",
              "      <td>West Bengal, India</td>\n",
              "      <td>578.435932</td>\n",
              "      <td>1.783309</td>\n",
              "      <td>NaN</td>\n",
              "      <td>NaN</td>\n",
              "      <td>NaN</td>\n",
              "      <td>NaN</td>\n",
              "      <td>NaN</td>\n",
              "    </tr>\n",
              "    <tr>\n",
              "      <th>285</th>\n",
              "      <td>NaN</td>\n",
              "      <td>NaN</td>\n",
              "      <td>West Bengal</td>\n",
              "      <td>India</td>\n",
              "      <td>2021-05-03 04:20:39</td>\n",
              "      <td>23.814082</td>\n",
              "      <td>87.979803</td>\n",
              "      <td>863393</td>\n",
              "      <td>11539</td>\n",
              "      <td>733359.0</td>\n",
              "      <td>118495.0</td>\n",
              "      <td>West Bengal, India</td>\n",
              "      <td>866.779481</td>\n",
              "      <td>1.336471</td>\n",
              "      <td>NaN</td>\n",
              "      <td>NaN</td>\n",
              "      <td>NaN</td>\n",
              "      <td>NaN</td>\n",
              "      <td>NaN</td>\n",
              "    </tr>\n",
              "    <tr>\n",
              "      <th>285</th>\n",
              "      <td>NaN</td>\n",
              "      <td>NaN</td>\n",
              "      <td>West Bengal</td>\n",
              "      <td>India</td>\n",
              "      <td>2021-03-03 05:23:28</td>\n",
              "      <td>23.814082</td>\n",
              "      <td>87.979803</td>\n",
              "      <td>575487</td>\n",
              "      <td>10270</td>\n",
              "      <td>561964.0</td>\n",
              "      <td>3253.0</td>\n",
              "      <td>West Bengal, India</td>\n",
              "      <td>577.744229</td>\n",
              "      <td>1.784575</td>\n",
              "      <td>NaN</td>\n",
              "      <td>NaN</td>\n",
              "      <td>NaN</td>\n",
              "      <td>NaN</td>\n",
              "      <td>NaN</td>\n",
              "    </tr>\n",
              "    <tr>\n",
              "      <th>285</th>\n",
              "      <td>NaN</td>\n",
              "      <td>NaN</td>\n",
              "      <td>West Bengal</td>\n",
              "      <td>India</td>\n",
              "      <td>2021-03-27 05:25:04</td>\n",
              "      <td>23.814082</td>\n",
              "      <td>87.979803</td>\n",
              "      <td>583027</td>\n",
              "      <td>10320</td>\n",
              "      <td>568476.0</td>\n",
              "      <td>4231.0</td>\n",
              "      <td>West Bengal, India</td>\n",
              "      <td>585.313803</td>\n",
              "      <td>1.770072</td>\n",
              "      <td>NaN</td>\n",
              "      <td>NaN</td>\n",
              "      <td>NaN</td>\n",
              "      <td>NaN</td>\n",
              "      <td>NaN</td>\n",
              "    </tr>\n",
              "    <tr>\n",
              "      <th>285</th>\n",
              "      <td>NaN</td>\n",
              "      <td>NaN</td>\n",
              "      <td>West Bengal</td>\n",
              "      <td>India</td>\n",
              "      <td>2021-04-14 04:20:41</td>\n",
              "      <td>23.814082</td>\n",
              "      <td>87.979803</td>\n",
              "      <td>624224</td>\n",
              "      <td>10434</td>\n",
              "      <td>584740.0</td>\n",
              "      <td>29050.0</td>\n",
              "      <td>West Bengal, India</td>\n",
              "      <td>626.672390</td>\n",
              "      <td>1.671515</td>\n",
              "      <td>NaN</td>\n",
              "      <td>NaN</td>\n",
              "      <td>NaN</td>\n",
              "      <td>NaN</td>\n",
              "      <td>NaN</td>\n",
              "    </tr>\n",
              "    <tr>\n",
              "      <th>285</th>\n",
              "      <td>NaN</td>\n",
              "      <td>NaN</td>\n",
              "      <td>West Bengal</td>\n",
              "      <td>India</td>\n",
              "      <td>2021-03-12 05:26:50</td>\n",
              "      <td>23.814082</td>\n",
              "      <td>87.979803</td>\n",
              "      <td>577511</td>\n",
              "      <td>10286</td>\n",
              "      <td>564115.0</td>\n",
              "      <td>3110.0</td>\n",
              "      <td>West Bengal, India</td>\n",
              "      <td>579.776168</td>\n",
              "      <td>1.781092</td>\n",
              "      <td>NaN</td>\n",
              "      <td>NaN</td>\n",
              "      <td>NaN</td>\n",
              "      <td>NaN</td>\n",
              "      <td>NaN</td>\n",
              "    </tr>\n",
              "    <tr>\n",
              "      <th>285</th>\n",
              "      <td>NaN</td>\n",
              "      <td>NaN</td>\n",
              "      <td>West Bengal</td>\n",
              "      <td>India</td>\n",
              "      <td>2021-05-04 04:20:34</td>\n",
              "      <td>23.814082</td>\n",
              "      <td>87.979803</td>\n",
              "      <td>880894</td>\n",
              "      <td>11637</td>\n",
              "      <td>749296.0</td>\n",
              "      <td>119961.0</td>\n",
              "      <td>West Bengal, India</td>\n",
              "      <td>884.349126</td>\n",
              "      <td>1.321044</td>\n",
              "      <td>NaN</td>\n",
              "      <td>NaN</td>\n",
              "      <td>NaN</td>\n",
              "      <td>NaN</td>\n",
              "      <td>NaN</td>\n",
              "    </tr>\n",
              "  </tbody>\n",
              "</table>\n",
              "</div>"
            ],
            "text/plain": [
              "     FIPS Admin2 Province_State  ... Last Update Latitude  Longitude\n",
              "285   NaN    NaN    West Bengal  ...         NaN      NaN        NaN\n",
              "285   NaN    NaN    West Bengal  ...         NaN      NaN        NaN\n",
              "285   NaN    NaN    West Bengal  ...         NaN      NaN        NaN\n",
              "285   NaN    NaN    West Bengal  ...         NaN      NaN        NaN\n",
              "285   NaN    NaN    West Bengal  ...         NaN      NaN        NaN\n",
              "285   NaN    NaN    West Bengal  ...         NaN      NaN        NaN\n",
              "285   NaN    NaN    West Bengal  ...         NaN      NaN        NaN\n",
              "285   NaN    NaN    West Bengal  ...         NaN      NaN        NaN\n",
              "285   NaN    NaN    West Bengal  ...         NaN      NaN        NaN\n",
              "285   NaN    NaN    West Bengal  ...         NaN      NaN        NaN\n",
              "285   NaN    NaN    West Bengal  ...         NaN      NaN        NaN\n",
              "285   NaN    NaN    West Bengal  ...         NaN      NaN        NaN\n",
              "285   NaN    NaN    West Bengal  ...         NaN      NaN        NaN\n",
              "285   NaN    NaN    West Bengal  ...         NaN      NaN        NaN\n",
              "\n",
              "[14 rows x 19 columns]"
            ]
          },
          "metadata": {
            "tags": []
          },
          "execution_count": 91
        }
      ]
    },
    {
      "cell_type": "code",
      "metadata": {
        "colab": {
          "base_uri": "https://localhost:8080/",
          "height": 295
        },
        "id": "ozmsVkM3j-Bf",
        "outputId": "7c16945a-cdfe-4d68-fd4f-7ae399f90965"
      },
      "source": [
        "plt.plot(bengaldata['Last_Update'], bengaldata['Confirmed'], label = \"Confirmed Cases\", linestyle=\"-\")\n",
        "plt.plot(bengaldata['Last_Update'], bengaldata['Recovered'], label = \"Recovered Cases\", linestyle=\"--\")\n",
        "plt.plot(bengaldata['Last_Update'], bengaldata['Deaths'], label = \"Deaths\", linestyle=\"-.\")\n",
        "plt.xlabel(\"Days\")\n",
        "plt.ylabel(\"Number of Cases\")\n",
        "plt.title(\"West Bengal Covid Cases\")\n",
        "plt.legend()\n",
        "plt.show()"
      ],
      "execution_count": null,
      "outputs": [
        {
          "output_type": "display_data",
          "data": {
            "image/png": "[encoded data removed]",
            "text/plain": [
              "<Figure size 432x288 with 1 Axes>"
            ]
          },
          "metadata": {
            "tags": [],
            "needs_background": "light"
          }
        }
      ]
    }
  ]
}