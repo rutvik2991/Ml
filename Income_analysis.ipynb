{
  "nbformat": 4,
  "nbformat_minor": 0,
  "metadata": {
    "colab": {
      "name": "Income_analysis.ipynb",
      "provenance": []
    },
    "kernelspec": {
      "name": "python3",
      "display_name": "Python 3"
    },
    "language_info": {
      "name": "python"
    }
  },
  "cells": [
    {
      "cell_type": "code",
      "metadata": {
        "id": "C3M8mgFlgk19"
      },
      "source": [
        "import numpy as np  \n",
        "import pandas as pd \n",
        "import matplotlib.pyplot as plt \n",
        "import seaborn as sns "
      ],
      "execution_count": 1,
      "outputs": []
    },
    {
      "cell_type": "code",
      "metadata": {
        "id": "hivLSxw7iOKa"
      },
      "source": [
        "from google.colab import drive"
      ],
      "execution_count": 2,
      "outputs": []
    },
    {
      "cell_type": "code",
      "metadata": {
        "colab": {
          "base_uri": "https://localhost:8080/"
        },
        "id": "fljEdeULiQQh",
        "outputId": "8c9a37c6-b9fc-433d-a111-1cd55360269d"
      },
      "source": [
        "drive.mount('/content/drive')"
      ],
      "execution_count": 3,
      "outputs": [
        {
          "output_type": "stream",
          "text": [
            "Mounted at /content/drive\n"
          ],
          "name": "stdout"
        }
      ]
    },
    {
      "cell_type": "code",
      "metadata": {
        "colab": {
          "base_uri": "https://localhost:8080/"
        },
        "id": "UPhCYTLkiV5b",
        "outputId": "04000576-9b0c-4b8a-cece-06063635bfba"
      },
      "source": [
        "cd /content/drive/\"My Drive/Colab Notebooks/\""
      ],
      "execution_count": 4,
      "outputs": [
        {
          "output_type": "stream",
          "text": [
            "/content/drive/My Drive/Colab Notebooks\n"
          ],
          "name": "stdout"
        }
      ]
    },
    {
      "cell_type": "code",
      "metadata": {
        "colab": {
          "base_uri": "https://localhost:8080/"
        },
        "id": "4X3jLYIniWgn",
        "outputId": "1e0d35c9-8020-4a0e-aa16-21ad84417403"
      },
      "source": [
        "q2 = pd.read_csv(\"Question 2.csv\")\n",
        "print(q2)"
      ],
      "execution_count": 18,
      "outputs": [
        {
          "output_type": "stream",
          "text": [
            "     INCOME  SPEND\n",
            "0       233    150\n",
            "1       250    187\n",
            "2       204    172\n",
            "3       236    178\n",
            "4       354    163\n",
            "..      ...    ...\n",
            "298     241    123\n",
            "299     264    132\n",
            "300     193    141\n",
            "301     131    115\n",
            "302     236    174\n",
            "\n",
            "[303 rows x 2 columns]\n"
          ],
          "name": "stdout"
        }
      ]
    },
    {
      "cell_type": "code",
      "metadata": {
        "colab": {
          "base_uri": "https://localhost:8080/",
          "height": 312
        },
        "id": "LxTb8HZZx0du",
        "outputId": "0ffa5a82-8989-4cbf-fee2-1898599050b0"
      },
      "source": [
        "plt.hist(q2['INCOME'], bins=15, rwidth=0.9)\n",
        "plt.xlabel(\"Income\")\n",
        "plt.ylabel(\"Freq\")\n",
        "plt.title('Income')"
      ],
      "execution_count": 21,
      "outputs": [
        {
          "output_type": "execute_result",
          "data": {
            "text/plain": [
              "Text(0.5, 1.0, 'Income')"
            ]
          },
          "metadata": {
            "tags": []
          },
          "execution_count": 21
        },
        {
          "output_type": "display_data",
          "data": {
            "image/png": "[encoded data removed]",
            "text/plain": [
              "<Figure size 432x288 with 1 Axes>"
            ]
          },
          "metadata": {
            "tags": [],
            "needs_background": "light"
          }
        }
      ]
    },
    {
      "cell_type": "code",
      "metadata": {
        "colab": {
          "base_uri": "https://localhost:8080/",
          "height": 312
        },
        "id": "-OgzzAcKyCWB",
        "outputId": "a3a90caf-faa3-4a9c-e878-2a8faf02f2ad"
      },
      "source": [
        "plt.hist(q2['SPEND'], bins=14, rwidth=0.9, color='red')\n",
        "plt.xlabel(\"Spend\")\n",
        "plt.ylabel(\"Freq\")\n",
        "plt.title('Spend')"
      ],
      "execution_count": 22,
      "outputs": [
        {
          "output_type": "execute_result",
          "data": {
            "text/plain": [
              "Text(0.5, 1.0, 'Spend')"
            ]
          },
          "metadata": {
            "tags": []
          },
          "execution_count": 22
        },
        {
          "output_type": "display_data",
          "data": {
            "image/png": "[encoded data removed]",
            "text/plain": [
              "<Figure size 432x288 with 1 Axes>"
            ]
          },
          "metadata": {
            "tags": [],
            "needs_background": "light"
          }
        }
      ]
    },
    {
      "cell_type": "code",
      "metadata": {
        "colab": {
          "base_uri": "https://localhost:8080/",
          "height": 281
        },
        "id": "NE3bJLxq2J7Q",
        "outputId": "316c6eda-cb9a-4f55-ba34-87342f247a11"
      },
      "source": [
        "plt.boxplot(q2[\"INCOME\"])\n",
        "plt.title('Descriptive Analysis of Income')\n",
        "plt.show()"
      ],
      "execution_count": 23,
      "outputs": [
        {
          "output_type": "display_data",
          "data": {
            "image/png": "[encoded data removed]",
            "text/plain": [
              "<Figure size 432x288 with 1 Axes>"
            ]
          },
          "metadata": {
            "tags": [],
            "needs_background": "light"
          }
        }
      ]
    },
    {
      "cell_type": "code",
      "metadata": {
        "colab": {
          "base_uri": "https://localhost:8080/",
          "height": 281
        },
        "id": "ONetDQ1_2KXH",
        "outputId": "049eb0a9-3990-413c-de3b-ee5d635b68ae"
      },
      "source": [
        "plt.boxplot(q2[\"SPEND\"])\n",
        "plt.title('Descriptive Analysis of Spend')\n",
        "plt.show()"
      ],
      "execution_count": 24,
      "outputs": [
        {
          "output_type": "display_data",
          "data": {
            "image/png": "[encoded data removed]",
            "text/plain": [
              "<Figure size 432x288 with 1 Axes>"
            ]
          },
          "metadata": {
            "tags": [],
            "needs_background": "light"
          }
        }
      ]
    },
    {
      "cell_type": "code",
      "metadata": {
        "colab": {
          "base_uri": "https://localhost:8080/",
          "height": 454
        },
        "id": "ubg0WsEww5po",
        "outputId": "245714a1-98aa-4a45-dc71-d108027b3cbb"
      },
      "source": [
        "x = q2['INCOME']\n",
        "y = q2['SPEND']\n",
        "sns.relplot(x, y)\n",
        "plt.title('Income vs Spend')\n",
        "plt.show()"
      ],
      "execution_count": 25,
      "outputs": [
        {
          "output_type": "stream",
          "text": [
            "/usr/local/lib/python3.7/dist-packages/seaborn/_decorators.py:43: FutureWarning: Pass the following variables as keyword args: x, y. From version 0.12, the only valid positional argument will be `data`, and passing other arguments without an explicit keyword will result in an error or misinterpretation.\n",
            "  FutureWarning\n"
          ],
          "name": "stderr"
        },
        {
          "output_type": "display_data",
          "data": {
            "image/png": "[encoded data removed]",
            "text/plain": [
              "<Figure size 360x360 with 1 Axes>"
            ]
          },
          "metadata": {
            "tags": [],
            "needs_background": "light"
          }
        }
      ]
    },
    {
      "cell_type": "code",
      "metadata": {
        "colab": {
          "base_uri": "https://localhost:8080/"
        },
        "id": "V76iz-p520Wp",
        "outputId": "71d0ff78-ab33-4715-efa6-72a6115a57ff"
      },
      "source": [
        "x= q2.iloc[:, [0,1]].values\n",
        "x"
      ],
      "execution_count": 28,
      "outputs": [
        {
          "output_type": "execute_result",
          "data": {
            "text/plain": [
              "array([[233, 150],\n",
              "       [250, 187],\n",
              "       [204, 172],\n",
              "       [236, 178],\n",
              "       [354, 163],\n",
              "       [192, 148],\n",
              "       [294, 153],\n",
              "       [263, 173],\n",
              "       [199, 162],\n",
              "       [168, 174],\n",
              "       [239, 160],\n",
              "       [275, 139],\n",
              "       [266, 171],\n",
              "       [211, 144],\n",
              "       [283, 162],\n",
              "       [219, 158],\n",
              "       [340, 172],\n",
              "       [226, 114],\n",
              "       [247, 171],\n",
              "       [239, 151],\n",
              "       [234, 161],\n",
              "       [233, 179],\n",
              "       [226, 178],\n",
              "       [243, 137],\n",
              "       [199, 178],\n",
              "       [302, 162],\n",
              "       [212, 157],\n",
              "       [175, 123],\n",
              "       [417, 157],\n",
              "       [197, 152],\n",
              "       [198, 168],\n",
              "       [177, 140],\n",
              "       [219, 188],\n",
              "       [273, 152],\n",
              "       [213, 125],\n",
              "       [177, 160],\n",
              "       [304, 170],\n",
              "       [232, 165],\n",
              "       [269, 148],\n",
              "       [360, 151],\n",
              "       [308, 142],\n",
              "       [245, 180],\n",
              "       [208, 148],\n",
              "       [264, 143],\n",
              "       [321, 182],\n",
              "       [325, 172],\n",
              "       [235, 180],\n",
              "       [257, 156],\n",
              "       [216, 115],\n",
              "       [234, 160],\n",
              "       [256, 149],\n",
              "       [302, 151],\n",
              "       [231, 146],\n",
              "       [141, 175],\n",
              "       [252, 172],\n",
              "       [201, 158],\n",
              "       [222, 186],\n",
              "       [260, 185],\n",
              "       [182, 174],\n",
              "       [303, 159],\n",
              "       [265, 130],\n",
              "       [309, 156],\n",
              "       [186, 190],\n",
              "       [203, 132],\n",
              "       [211, 165],\n",
              "       [183, 182],\n",
              "       [222, 143],\n",
              "       [234, 175],\n",
              "       [220, 170],\n",
              "       [209, 163],\n",
              "       [258, 147],\n",
              "       [227, 154],\n",
              "       [204, 202],\n",
              "       [261, 186],\n",
              "       [213, 165],\n",
              "       [250, 161],\n",
              "       [245, 166],\n",
              "       [221, 164],\n",
              "       [205, 184],\n",
              "       [240, 154],\n",
              "       [250, 179],\n",
              "       [308, 170],\n",
              "       [318, 160],\n",
              "       [298, 178],\n",
              "       [265, 122],\n",
              "       [264, 160],\n",
              "       [277, 151],\n",
              "       [197, 156],\n",
              "       [214, 158],\n",
              "       [248, 122],\n",
              "       [255, 175],\n",
              "       [207, 168],\n",
              "       [223, 169],\n",
              "       [288, 159],\n",
              "       [160, 138],\n",
              "       [226, 111],\n",
              "       [394, 157],\n",
              "       [233, 147],\n",
              "       [315, 162],\n",
              "       [246, 173],\n",
              "       [244, 178],\n",
              "       [270, 145],\n",
              "       [195, 179],\n",
              "       [240, 194],\n",
              "       [196, 163],\n",
              "       [211, 115],\n",
              "       [234, 131],\n",
              "       [236, 152],\n",
              "       [244, 162],\n",
              "       [254, 159],\n",
              "       [325, 154],\n",
              "       [126, 173],\n",
              "       [313, 133],\n",
              "       [211, 161],\n",
              "       [262, 155],\n",
              "       [215, 170],\n",
              "       [214, 168],\n",
              "       [193, 162],\n",
              "       [204, 172],\n",
              "       [243, 152],\n",
              "       [303, 122],\n",
              "       [271, 182],\n",
              "       [268, 172],\n",
              "       [267, 167],\n",
              "       [199, 179],\n",
              "       [210, 192],\n",
              "       [204, 143],\n",
              "       [277, 172],\n",
              "       [196, 169],\n",
              "       [269, 121],\n",
              "       [201, 163],\n",
              "       [271, 162],\n",
              "       [295, 162],\n",
              "       [235, 153],\n",
              "       [306, 163],\n",
              "       [269, 163],\n",
              "       [178,  96],\n",
              "       [208, 140],\n",
              "       [201, 126],\n",
              "       [263, 105],\n",
              "       [295, 157],\n",
              "       [303, 181],\n",
              "       [209, 173],\n",
              "       [223, 142],\n",
              "       [197, 116],\n",
              "       [245, 143],\n",
              "       [242, 149],\n",
              "       [240, 171],\n",
              "       [226, 169],\n",
              "       [180, 150],\n",
              "       [228, 138],\n",
              "       [149, 125],\n",
              "       [227, 155],\n",
              "       [278, 152],\n",
              "       [220, 152],\n",
              "       [197, 131],\n",
              "       [253, 179],\n",
              "       [192, 174],\n",
              "       [220, 144],\n",
              "       [221, 163],\n",
              "       [240, 169],\n",
              "       [342, 166],\n",
              "       [157, 182],\n",
              "       [175, 173],\n",
              "       [175, 173],\n",
              "       [286, 108],\n",
              "       [229, 129],\n",
              "       [268, 160],\n",
              "       [254, 147],\n",
              "       [203, 155],\n",
              "       [256, 142],\n",
              "       [229, 168],\n",
              "       [284, 160],\n",
              "       [224, 173],\n",
              "       [206, 132],\n",
              "       [167, 114],\n",
              "       [230, 160],\n",
              "       [335, 158],\n",
              "       [177, 120],\n",
              "       [276, 112],\n",
              "       [353, 132],\n",
              "       [225, 114],\n",
              "       [330, 169],\n",
              "       [230, 165],\n",
              "       [243, 128],\n",
              "       [290, 153],\n",
              "       [253, 144],\n",
              "       [266, 109],\n",
              "       [233, 163],\n",
              "       [172, 158],\n",
              "       [305, 142],\n",
              "       [216, 131],\n",
              "       [188, 113],\n",
              "       [282, 142],\n",
              "       [185, 155],\n",
              "       [326, 140],\n",
              "       [231, 147],\n",
              "       [254, 163],\n",
              "       [267,  99],\n",
              "       [248, 158],\n",
              "       [197, 177],\n",
              "       [258, 141],\n",
              "       [270, 111],\n",
              "       [274, 150],\n",
              "       [164, 145],\n",
              "       [255, 161],\n",
              "       [239, 142],\n",
              "       [258, 157],\n",
              "       [188, 139],\n",
              "       [177, 162],\n",
              "       [229, 150],\n",
              "       [260, 140],\n",
              "       [219, 140],\n",
              "       [307, 146],\n",
              "       [249, 144],\n",
              "       [341, 136],\n",
              "       [263,  97],\n",
              "       [330, 132],\n",
              "       [254, 127],\n",
              "       [256, 150],\n",
              "       [407, 154],\n",
              "       [217, 111],\n",
              "       [282, 174],\n",
              "       [288, 133],\n",
              "       [239, 126],\n",
              "       [174, 125],\n",
              "       [281, 103],\n",
              "       [198, 130],\n",
              "       [288, 159],\n",
              "       [309, 131],\n",
              "       [243, 152],\n",
              "       [289, 124],\n",
              "       [289, 145],\n",
              "       [246,  96],\n",
              "       [322, 109],\n",
              "       [299, 173],\n",
              "       [300, 171],\n",
              "       [293, 170],\n",
              "       [304, 162],\n",
              "       [282, 156],\n",
              "       [269, 112],\n",
              "       [249, 143],\n",
              "       [212, 132],\n",
              "       [274,  88],\n",
              "       [184, 105],\n",
              "       [274, 166],\n",
              "       [409, 150],\n",
              "       [246, 120],\n",
              "       [283, 195],\n",
              "       [254, 146],\n",
              "       [298, 122],\n",
              "       [247, 143],\n",
              "       [294, 106],\n",
              "       [299, 125],\n",
              "       [273, 125],\n",
              "       [309, 147],\n",
              "       [259, 130],\n",
              "       [200, 126],\n",
              "       [244, 154],\n",
              "       [231, 182],\n",
              "       [228, 165],\n",
              "       [230, 160],\n",
              "       [282,  95],\n",
              "       [269, 169],\n",
              "       [206, 108],\n",
              "       [212, 132],\n",
              "       [327, 117],\n",
              "       [149, 126],\n",
              "       [286, 116],\n",
              "       [283, 103],\n",
              "       [249, 144],\n",
              "       [234, 145],\n",
              "       [237,  71],\n",
              "       [234, 156],\n",
              "       [275, 118],\n",
              "       [212, 168],\n",
              "       [218, 105],\n",
              "       [261, 141],\n",
              "       [319, 152],\n",
              "       [166, 125],\n",
              "       [315, 125],\n",
              "       [204, 156],\n",
              "       [218, 134],\n",
              "       [223, 181],\n",
              "       [207, 138],\n",
              "       [311, 120],\n",
              "       [204, 162],\n",
              "       [232, 164],\n",
              "       [335, 143],\n",
              "       [205, 130],\n",
              "       [203, 161],\n",
              "       [318, 140],\n",
              "       [225, 146],\n",
              "       [212, 150],\n",
              "       [169, 144],\n",
              "       [187, 144],\n",
              "       [197, 136],\n",
              "       [176,  90],\n",
              "       [241, 123],\n",
              "       [264, 132],\n",
              "       [193, 141],\n",
              "       [131, 115],\n",
              "       [236, 174]])"
            ]
          },
          "metadata": {
            "tags": []
          },
          "execution_count": 28
        }
      ]
    },
    {
      "cell_type": "code",
      "metadata": {
        "colab": {
          "base_uri": "https://localhost:8080/",
          "height": 295
        },
        "id": "3SnBHSw04cUl",
        "outputId": "4b885dec-b13e-4a71-f10d-7e38edae35f7"
      },
      "source": [
        "#before elbow method\n",
        "km=KMeans(n_clusters=5,init='k-means++',random_state=40)\n",
        "km_y=km.fit_predict(x)\n",
        "plt.scatter(x[km_y==0, 0],x[km_y==0, 1], s=25,c='red', label='c1')\n",
        "plt.scatter(x[km_y==1, 0],x[km_y==1, 1], s=25,c='blue', label='c2')\n",
        "plt.scatter(x[km_y==2, 0],x[km_y==2, 1], s=25,c='green', label='c3')\n",
        "plt.scatter(x[km_y==3, 0],x[km_y==3, 1], s=25,c='orange', label='c4')\n",
        "plt.scatter(x[km_y==4, 0],x[km_y==4, 1], s=25,c='yellow',label='c5')\n",
        "plt.scatter(km.cluster_centers_[:,0],km.cluster_centers_[:,1], s=100, c='black')\n",
        "plt.title('Kmeans Clustering')\n",
        "plt.xlabel('Income')\n",
        "plt.ylabel('Spend')\n",
        "plt.legend()\n",
        "plt.show()"
      ],
      "execution_count": 48,
      "outputs": [
        {
          "output_type": "display_data",
          "data": {
            "image/png": "[encoded data removed]",
            "text/plain": [
              "<Figure size 432x288 with 1 Axes>"
            ]
          },
          "metadata": {
            "tags": [],
            "needs_background": "light"
          }
        }
      ]
    },
    {
      "cell_type": "code",
      "metadata": {
        "colab": {
          "base_uri": "https://localhost:8080/",
          "height": 295
        },
        "id": "dpq4UWoozBIh",
        "outputId": "faba2ae3-74e4-4744-e78a-8bd9feaadd23"
      },
      "source": [
        "from sklearn.cluster import KMeans\n",
        "wcss=[]\n",
        "for i in range(1,7):\n",
        "    km=KMeans(n_clusters=i,init='k-means++',random_state=40)\n",
        "    km.fit(x)\n",
        "    wcss.append(km.inertia_)\n",
        "plt.plot(range(1,7),wcss)\n",
        "plt.title('The Elbow method')\n",
        "plt.xlabel('Number of Clusters')\n",
        "plt.ylabel('Wcss')\n",
        "plt.show()"
      ],
      "execution_count": 36,
      "outputs": [
        {
          "output_type": "display_data",
          "data": {
            "image/png": "[encoded data removed]",
            "text/plain": [
              "<Figure size 432x288 with 1 Axes>"
            ]
          },
          "metadata": {
            "tags": [],
            "needs_background": "light"
          }
        }
      ]
    },
    {
      "cell_type": "code",
      "metadata": {
        "id": "ji8SZwB3zSxM"
      },
      "source": [
        "#After elbow method (it shows 3 clusters)\n",
        "km=KMeans(n_clusters=3,init='k-means++',random_state=40)\n",
        "km_y=km.fit_predict(x)"
      ],
      "execution_count": 49,
      "outputs": []
    },
    {
      "cell_type": "code",
      "metadata": {
        "colab": {
          "base_uri": "https://localhost:8080/",
          "height": 295
        },
        "id": "Za6nibd3zHBh",
        "outputId": "b581c277-01c5-4e51-aa39-f57cf3595c63"
      },
      "source": [
        "plt.scatter(x[km_y==0, 0],x[km_y==0, 1], s=25,c='red', label='c1')\n",
        "plt.scatter(x[km_y==1, 0],x[km_y==1, 1], s=25,c='blue', label='c2')\n",
        "plt.scatter(x[km_y==2, 0],x[km_y==2, 1], s=25,c='green', label='c3')\n",
        "plt.scatter(km.cluster_centers_[:,0],km.cluster_centers_[:,1], s=100, c='black')\n",
        "plt.title('Kmeans Clustering')\n",
        "plt.xlabel('Income')\n",
        "plt.ylabel('Spend')\n",
        "plt.legend()\n",
        "plt.show()"
      ],
      "execution_count": 52,
      "outputs": [
        {
          "output_type": "display_data",
          "data": {
            "image/png": "[encoded data removed]",
            "text/plain": [
              "<Figure size 432x288 with 1 Axes>"
            ]
          },
          "metadata": {
            "tags": [],
            "needs_background": "light"
          }
        }
      ]
    }
  ]
}